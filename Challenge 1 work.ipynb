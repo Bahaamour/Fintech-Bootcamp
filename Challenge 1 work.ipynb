{
 "cells": [
  {
   "cell_type": "code",
   "execution_count": 1,
   "id": "8179b501",
   "metadata": {},
   "outputs": [],
   "source": [
    "from pathlib import Path \n",
    "import csv "
   ]
  },
  {
   "cell_type": "code",
   "execution_count": 4,
   "id": "50b09cc9",
   "metadata": {},
   "outputs": [
    {
     "name": "stdout",
     "output_type": "stream",
     "text": [
      "5\n",
      "2750\n",
      "550.0\n"
     ]
    }
   ],
   "source": [
    "loan_costs = [500, 600, 200, 1000, 450]\n",
    "\n",
    "total_number_of_loans = len(loan_costs)\n",
    "print(total_number_of_loans)\n",
    "\n",
    "sum_of_loans = sum(loan_costs)\n",
    "print(sum_of_loans)\n",
    "\n",
    "average_loan_price = sum_of_loans/total_number_of_loans\n",
    "print(average_loan_price)\n"
   ]
  },
  {
   "cell_type": "code",
   "execution_count": 1,
   "id": "0a92dad8",
   "metadata": {},
   "outputs": [
    {
     "name": "stdout",
     "output_type": "stream",
     "text": [
      "1000\n",
      "9\n",
      "861.7727126032183\n",
      "The loan is worth at least the cost to buy it.\n"
     ]
    }
   ],
   "source": [
    "loan = {\"loan_price\": 500,\"remaining_months\": 9,\"repayment_interval\": \"bullet\",\"future_value\": 1000,}\n",
    "\n",
    "future_value = loan.get(\"future_value\")\n",
    "print(future_value)\n",
    "\n",
    "remaining_month= loan.get(\"remaining_months\")\n",
    "print(remaining_month)\n",
    "\n",
    "\n",
    "loan_price = loan.get(\"loan_price\")\n",
    "\n",
    "\n",
    "present_value = future_value / (1 + .20 /12) ** remaining_month\n",
    "print(present_value)\n",
    "\n",
    "if present_value >= loan_price:  # need to check what he means by the cost, future value or price \n",
    "    print(\"The loan is worth at least the cost to buy it.\")\n",
    "    \n",
    "else:\n",
    "    print(\"The loan is too expensive and not worth the price.\")"
   ]
  },
  {
   "cell_type": "code",
   "execution_count": 30,
   "id": "ed568e66",
   "metadata": {},
   "outputs": [
    {
     "name": "stdout",
     "output_type": "stream",
     "text": [
      "The present value of the loan is: 820.0814425978174\n"
     ]
    }
   ],
   "source": [
    "annual_discount_rate = 0.20\n",
    "new_loan = {\"loan_price\": 800,\"remaining_months\": 12,\"repayment_interval\": \"bullet\",\"future_value\": 1000,}\n",
    "\n",
    "def calc_present_value(future_value,remaining_months,annual_discount_rate):\n",
    "    \n",
    "    present_value1 = future_value / (1 + annual_discount_rate /12) ** remaining_months\n",
    "    \n",
    "    return present_value1\n",
    "\n",
    "present_value1 = calc_present_value(new_loan[\"future_value\"],new_loan[\"remaining_months\"],annual_discount_rate)\n",
    "print(f\"The present value of the loan is: {present_value1}\")"
   ]
  },
  {
   "cell_type": "code",
   "execution_count": 54,
   "id": "b3160e57",
   "metadata": {},
   "outputs": [
    {
     "name": "stdout",
     "output_type": "stream",
     "text": [
      "[500, 200]\n"
     ]
    }
   ],
   "source": [
    "loans = [{\"loan_price\": 700,\"remaining_months\": 9,\"repayment_interval\": \"monthly\",\"future_value\": 1000,},\n",
    "         {\"loan_price\": 500,\"remaining_months\": 13, \"repayment_interval\": \"bullet\",\"future_value\": 1000,},\n",
    "         {\"loan_price\": 200,\"remaining_months\": 16,\"repayment_interval\": \"bullet\",\"future_value\": 1000,},\n",
    "         {\"loan_price\": 900,\"remaining_months\": 16,\"repayment_interval\": \"bullet\",\"future_value\": 1000,},]\n",
    "\n",
    "inexpensive_loans = []\n",
    "for key in loans:\n",
    "    cost = key.get(\"loan_price\")\n",
    "    \n",
    "    if cost <= 500:\n",
    "        inexpensive_loans.append(cost)\n",
    "        \n",
    "print(inexpensive_loans)"
   ]
  },
  {
   "cell_type": "code",
   "execution_count": 64,
   "id": "173367b6",
   "metadata": {},
   "outputs": [],
   "source": [
    "header = [\"loan_price\", \"remaining_months\", \"repayment_interval\", \"future_value\"]\n",
    "output_path = Path(\"inexpensive_loans.csv\")\n",
    "\n",
    "csvfile = open(output_path,\"w\", newline = \"\")\n",
    "    \n",
    "csvwriter = csv.writer(csvfile,delimiter=\",\")\n",
    "csvwriter.writerow(header)\n",
    "\n",
    "for row in loans:\n",
    "    \n",
    "    csvwriter.writerow(row.values())"
   ]
  },
  {
   "cell_type": "code",
   "execution_count": null,
   "id": "27a4d6c9",
   "metadata": {},
   "outputs": [],
   "source": []
  }
 ],
 "metadata": {
  "kernelspec": {
   "display_name": "Python 3 (ipykernel)",
   "language": "python",
   "name": "python3"
  },
  "language_info": {
   "codemirror_mode": {
    "name": "ipython",
    "version": 3
   },
   "file_extension": ".py",
   "mimetype": "text/x-python",
   "name": "python",
   "nbconvert_exporter": "python",
   "pygments_lexer": "ipython3",
   "version": "3.9.13"
  }
 },
 "nbformat": 4,
 "nbformat_minor": 5
}
